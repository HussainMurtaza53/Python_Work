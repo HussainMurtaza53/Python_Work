{
 "cells": [
  {
   "cell_type": "code",
   "execution_count": 4,
   "metadata": {},
   "outputs": [
    {
     "name": "stdout",
     "output_type": "stream",
     "text": [
      "Enter a number : 4\n",
      "Enter a number :  3\n",
      "7\n"
     ]
    }
   ],
   "source": [
    "a=int(input(\"Enter a number : \"))\n",
    "b=int(input(\"Enter a number :  \"))\n",
    "add=a+b\n",
    "print(add)"
   ]
  },
  {
   "cell_type": "code",
   "execution_count": 2,
   "metadata": {},
   "outputs": [
    {
     "name": "stdout",
     "output_type": "stream",
     "text": [
      "40\n"
     ]
    }
   ],
   "source": [
    "def add_num(num1,num2,sign):\n",
    "    if sign == \"+\":\n",
    "        add = num1 + num2\n",
    "        print(add)\n",
    "    elif sign == '-':\n",
    "        sub = num1-num2\n",
    "        print(sub)\n",
    "add_num(55,15,\"-\")"
   ]
  },
  {
   "cell_type": "code",
   "execution_count": 7,
   "metadata": {},
   "outputs": [
    {
     "name": "stdout",
     "output_type": "stream",
     "text": [
      "400\n"
     ]
    }
   ],
   "source": [
    "#keyword arguments\n",
    "#default args should be always in last \n",
    "def cal_marks(subjects, marks=80):\n",
    "    print(subjects * marks)\n",
    "cal_marks(subjects = 5, marks=80)"
   ]
  },
  {
   "cell_type": "code",
   "execution_count": 27,
   "metadata": {},
   "outputs": [
    {
     "name": "stdout",
     "output_type": "stream",
     "text": [
      "niassuH\n"
     ]
    }
   ],
   "source": [
    "def rev(string = \"Hussain\"):\n",
    "    i = len(string)-1\n",
    "    str=\"\"\n",
    "    while i>=0:\n",
    "        str = str+string[i]\n",
    "        i=i-1\n",
    "    print(str)\n",
    "rev()"
   ]
  },
  {
   "cell_type": "code",
   "execution_count": 10,
   "metadata": {},
   "outputs": [
    {
     "name": "stdout",
     "output_type": "stream",
     "text": [
      "7\n"
     ]
    },
    {
     "data": {
      "text/plain": [
       "7"
      ]
     },
     "execution_count": 10,
     "metadata": {},
     "output_type": "execute_result"
    }
   ],
   "source": [
    "a = \"Hussain\"\n",
    "b =len(a)\n",
    "b"
   ]
  },
  {
   "cell_type": "code",
   "execution_count": 13,
   "metadata": {},
   "outputs": [
    {
     "data": {
      "text/plain": [
       "10"
      ]
     },
     "execution_count": 13,
     "metadata": {},
     "output_type": "execute_result"
    }
   ],
   "source": [
    "def add(num1):\n",
    "    return 5*3\n",
    "def add(a,b):\n",
    "    return 4*2\n",
    "def add(c,d,e):\n",
    "    return c*d+e\n",
    "add(8,1,2)"
   ]
  },
  {
   "cell_type": "code",
   "execution_count": 34,
   "metadata": {},
   "outputs": [
    {
     "name": "stdout",
     "output_type": "stream",
     "text": [
      "Hussain Murtaza Hyderi\n",
      "{'s': 2132, 'h': 12312}\n"
     ]
    }
   ],
   "source": [
    "def info(F_name, L_Name, Address, **info):\n",
    "    print(F_name, L_Name, Address)\n",
    "    print(info)\n",
    "info(\"Hussain\", \"Murtaza\", \"Hyderi\",s= 2132,h= 12312)"
   ]
  },
  {
   "cell_type": "code",
   "execution_count": null,
   "metadata": {},
   "outputs": [],
   "source": []
  },
  {
   "cell_type": "code",
   "execution_count": null,
   "metadata": {},
   "outputs": [],
   "source": []
  }
 ],
 "metadata": {
  "kernelspec": {
   "display_name": "Python 3",
   "language": "python",
   "name": "python3"
  },
  "language_info": {
   "codemirror_mode": {
    "name": "ipython",
    "version": 3
   },
   "file_extension": ".py",
   "mimetype": "text/x-python",
   "name": "python",
   "nbconvert_exporter": "python",
   "pygments_lexer": "ipython3",
   "version": "3.6.5"
  }
 },
 "nbformat": 4,
 "nbformat_minor": 2
}
