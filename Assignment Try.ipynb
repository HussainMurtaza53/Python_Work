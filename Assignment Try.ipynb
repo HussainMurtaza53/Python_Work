{
 "cells": [
  {
   "cell_type": "code",
   "execution_count": 9,
   "metadata": {},
   "outputs": [
    {
     "data": {
      "text/plain": [
       "'b*a**le'"
      ]
     },
     "execution_count": 9,
     "metadata": {},
     "output_type": "execute_result"
    }
   ],
   "source": [
    "s=\"babble\"\n",
    "# a=s[1:]\n",
    "b=s[0]\n",
    "str1=s.replace(b,\"*\")\n",
    "str2=b+str1\n",
    "str2"
   ]
  },
  {
   "cell_type": "code",
   "execution_count": 18,
   "metadata": {},
   "outputs": [
    {
     "name": "stdout",
     "output_type": "stream",
     "text": [
      "pox mid\n"
     ]
    }
   ],
   "source": [
    "str1=\"mix\"\n",
    "str2=\"pod\"\n",
    "a=str1[0:2]\n",
    "b=str2[0:2]\n",
    "rep1=str1.replace(a,b)\n",
    "rep2=str2.replace(b,a)\n",
    "print(rep1,rep2)"
   ]
  },
  {
   "cell_type": "code",
   "execution_count": 32,
   "metadata": {},
   "outputs": [
    {
     "name": "stdout",
     "output_type": "stream",
     "text": [
      "swiming\n"
     ]
    }
   ],
   "source": [
    "s=\"swim\"\n",
    "length=len(s)\n",
    "if length>=3:\n",
    "    if s[length-3] == \"i\" and s[length-2] == \"n\" and s[length-1] == \"g\":\n",
    "        print(s+\"ly\")\n",
    "    else:\n",
    "        print(s+\"ing\")\n",
    "else:\n",
    "    print(s)"
   ]
  },
  {
   "cell_type": "code",
   "execution_count": 46,
   "metadata": {},
   "outputs": [
    {
     "name": "stdout",
     "output_type": "stream",
     "text": [
      "3\n"
     ]
    }
   ],
   "source": [
    "list=['aaa', 'bbb', 'cac', 'abb', 'caa']\n",
    "count = 0\n",
    "for i in list:\n",
    "    length = len(i)\n",
    "    if length>=2 and i != \" \":\n",
    "        if i[0] == i[length-1]:\n",
    "            count += 1\n",
    "print(count)"
   ]
  },
  {
   "cell_type": "code",
   "execution_count": 81,
   "metadata": {},
   "outputs": [
    {
     "data": {
      "text/plain": [
       "['xab', 'xyz', 'adb', 'bbc']"
      ]
     },
     "execution_count": 81,
     "metadata": {},
     "output_type": "execute_result"
    }
   ],
   "source": [
    "list1=['xab', 'bbc', 'adb', 'xyz']\n",
    "list2 = []\n",
    "list4 = []\n",
    "for items in list1:\n",
    "    if items[0] == 'x':\n",
    "        list2.append(items)\n",
    "list1.sort()\n",
    "list3 = list2 + list1\n",
    "for items2 in list3:\n",
    "    if not items2 in list4:\n",
    "        list4.append(items2)\n",
    "list4"
   ]
  },
  {
   "cell_type": "code",
   "execution_count": 36,
   "metadata": {},
   "outputs": [
    {
     "data": {
      "text/plain": [
       "['aa', 'ab', 'abc', 'xx', 'xyz', 'xz', 'yz']"
      ]
     },
     "execution_count": 36,
     "metadata": {},
     "output_type": "execute_result"
    }
   ],
   "source": [
    "list1 = ['ab', 'aa', 'abc']\n",
    "list2 = ['xz', 'xx', 'xyz', 'yz']\n",
    "list3 = list1+list2\n",
    "list4 = sorted(list3)\n",
    "list4"
   ]
  },
  {
   "cell_type": "code",
   "execution_count": 83,
   "metadata": {},
   "outputs": [
    {
     "data": {
      "text/plain": [
       "[1, 2, 3]"
      ]
     },
     "execution_count": 83,
     "metadata": {},
     "output_type": "execute_result"
    }
   ],
   "source": [
    "list1 = [1,2,2,3]\n",
    "list2 = []\n",
    "for items in list1:\n",
    "    if not items in list2:\n",
    "        list2.append(items)\n",
    "list2"
   ]
  },
  {
   "cell_type": "code",
   "execution_count": 105,
   "metadata": {},
   "outputs": [
    {
     "name": "stdout",
     "output_type": "stream",
     "text": [
      "Dinner is good\n"
     ]
    }
   ],
   "source": [
    "string = \"Dinner is not so bad\"\n",
    "list = string.split(\" \")\n",
    "i=0\n",
    "str1=\"\"\n",
    "if \"not\" and \"bad\" in list:\n",
    "    a = list.index(\"not\")\n",
    "    b = list.index(\"bad\")\n",
    "    if a < b:\n",
    "        while i<a:\n",
    "            str1=str1+list[i]+\" \"\n",
    "            i=i+1\n",
    "        str1=str1+\"good\"\n",
    "        print(str1)\n",
    "    else:\n",
    "        print(string)\n",
    "            "
   ]
  },
  {
   "cell_type": "code",
   "execution_count": 124,
   "metadata": {},
   "outputs": [
    {
     "name": "stdout",
     "output_type": "stream",
     "text": [
      "ab x\n"
     ]
    }
   ],
   "source": [
    "s1 = \"abcd\"\n",
    "s2 = \"xy\"\n",
    "i = 0\n",
    "j = 0\n",
    "str1=\"\"\n",
    "str2=\"\"\n",
    "length1 = len(s1)\n",
    "length2 = len(s2)\n",
    "if length1%2 == 0 and length2%2 == 0:\n",
    "    div1=length1/2\n",
    "    div2=length2/2\n",
    "    while i<div1:\n",
    "        str1 = str1+s1[i]\n",
    "        i=i+1\n",
    "    while j<div2:\n",
    "        str2 = str2+s2[j]\n",
    "        j=j+1\n",
    "        print(str1,str2)"
   ]
  },
  {
   "cell_type": "code",
   "execution_count": null,
   "metadata": {},
   "outputs": [],
   "source": []
  },
  {
   "cell_type": "code",
   "execution_count": null,
   "metadata": {},
   "outputs": [],
   "source": []
  },
  {
   "cell_type": "code",
   "execution_count": null,
   "metadata": {},
   "outputs": [],
   "source": []
  },
  {
   "cell_type": "code",
   "execution_count": null,
   "metadata": {},
   "outputs": [],
   "source": []
  }
 ],
 "metadata": {
  "kernelspec": {
   "display_name": "Python 3",
   "language": "python",
   "name": "python3"
  },
  "language_info": {
   "codemirror_mode": {
    "name": "ipython",
    "version": 3
   },
   "file_extension": ".py",
   "mimetype": "text/x-python",
   "name": "python",
   "nbconvert_exporter": "python",
   "pygments_lexer": "ipython3",
   "version": "3.6.5"
  }
 },
 "nbformat": 4,
 "nbformat_minor": 2
}
