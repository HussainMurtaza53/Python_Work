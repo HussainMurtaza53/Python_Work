{
 "cells": [
  {
   "cell_type": "code",
   "execution_count": 3,
   "metadata": {},
   "outputs": [
    {
     "name": "stdout",
     "output_type": "stream",
     "text": [
      "2002,2009,2016,2023,2037,2044,2051,2058,2072,2079,2086,2093,2107,2114,2121,2128,2142,2149,2156,2163,2177,2184,2191,2198,2212,2219,2226,2233,2247,2254,2261,2268,2282,2289,2296,2303,2317,2324,2331,2338,2352,2359,2366,2373,2387,2394,2401,2408,2422,2429,2436,2443,2457,2464,2471,2478,2492,2499,2506,2513,2527,2534,2541,2548,2562,2569,2576,2583,2597,2604,2611,2618,2632,2639,2646,2653,2667,2674,2681,2688,2702,2709,2716,2723,2737,2744,2751,2758,2772,2779,2786,2793,2807,2814,2821,2828,2842,2849,2856,2863,2877,2884,2891,2898,2912,2919,2926,2933,2947,2954,2961,2968,2982,2989,2996,3003,3017,3024,3031,3038,3052,3059,3066,3073,3087,3094,3101,3108,3122,3129,3136,3143,3157,3164,3171,3178,3192,3199\n"
     ]
    }
   ],
   "source": [
    "#Q1) Write a program which will find all such numbers which are divisible by 7 \n",
    "#but are not a multiple of 5,between 2000 and 3200 (both included).\n",
    "#The numbers obtained should be printed in a comma-separated sequence on a single line.\n",
    "\n",
    "list = []\n",
    "for num in range(2000, 3201):\n",
    "    if num%7 == 0 and num%5 != 0:\n",
    "        list.append(str(num))\n",
    "print(\",\".join(list))"
   ]
  },
  {
   "cell_type": "code",
   "execution_count": 26,
   "metadata": {},
   "outputs": [
    {
     "name": "stdout",
     "output_type": "stream",
     "text": [
      "Enter Number:5\n",
      "120\n"
     ]
    }
   ],
   "source": [
    "#Q2) Write a program which can compute the factorial of a given numbers.\n",
    "#The results should be printed in a comma-separated sequence on a single line.\n",
    "\n",
    "def fact(x):\n",
    "    if x == 0:\n",
    "        return 1\n",
    "    else:\n",
    "        return x * fact(x-1)\n",
    "num = int(input(\"Enter Number:\"))\n",
    "print(fact(num))"
   ]
  },
  {
   "cell_type": "code",
   "execution_count": 1,
   "metadata": {},
   "outputs": [
    {
     "name": "stdout",
     "output_type": "stream",
     "text": [
      "Enter number:12\n",
      "{1: 1, 2: 4, 3: 9, 4: 16, 5: 25, 6: 36, 7: 49, 8: 64, 9: 81, 10: 100, 11: 121, 12: 144}\n"
     ]
    }
   ],
   "source": [
    "#Q3) With a given integral number n, write a program to generate a dictionary \n",
    "#that contains (i, i*i) such that is an integral number between 1 and n (both included). \n",
    "#and then the program should print the dictionary.\n",
    "#Suppose the following input is supplied to the program:\n",
    "#8\n",
    "#Then, the output should be:\n",
    "#{1: 1, 2: 4, 3: 9, 4: 16, 5: 25, 6: 36, 7: 49, 8: 64}\n",
    "\n",
    "num = int(input(\"Enter number:\"))\n",
    "dic = {}\n",
    "for i in range(1, num+1):\n",
    "    dic[i] = i*i\n",
    "print(dic)"
   ]
  },
  {
   "cell_type": "code",
   "execution_count": 11,
   "metadata": {},
   "outputs": [
    {
     "name": "stdout",
     "output_type": "stream",
     "text": [
      "Enter numbers:12,13,14,15,16\n",
      "['12', '13', '14', '15', '16']\n",
      "('12', '13', '14', '15', '16')\n"
     ]
    }
   ],
   "source": [
    "#Q4) Write a program which accepts a sequence of comma-separated numbers from console \n",
    "#and generate a list and a tuple which contains every number.\n",
    "\n",
    "num = input(\"Enter numbers:\")\n",
    "list1 = num.split(',')\n",
    "tuple1 = tuple(list1)\n",
    "print(list1)\n",
    "print(tuple1)"
   ]
  },
  {
   "cell_type": "code",
   "execution_count": 15,
   "metadata": {},
   "outputs": [
    {
     "name": "stdout",
     "output_type": "stream",
     "text": [
      "Enter String:Hussain\n",
      "HUSSAIN\n"
     ]
    }
   ],
   "source": [
    "#Q5) Define a class which has at least two methods:\n",
    "#getString: to get a string from console input\n",
    "#printString: to print the string in upper case.\n",
    "#Also please include simple test function to test the class methods.\n",
    "\n",
    "class InputOutString():\n",
    "    def __init__(self):\n",
    "        self.s = \"\"\n",
    "\n",
    "    def getString(self):\n",
    "        self.s = input(\"Enter String:\")\n",
    "\n",
    "    def printString(self):\n",
    "        print(self.s.upper())\n",
    "\n",
    "strObj = InputOutString()\n",
    "strObj.getString()\n",
    "strObj.printString()\n"
   ]
  },
  {
   "cell_type": "code",
   "execution_count": 28,
   "metadata": {},
   "outputs": [
    {
     "name": "stdout",
     "output_type": "stream",
     "text": [
      "Enter numbers:1,1\n"
     ]
    },
    {
     "ename": "TypeError",
     "evalue": "'str' object is not callable",
     "output_type": "error",
     "traceback": [
      "\u001b[1;31m---------------------------------------------------------------------------\u001b[0m",
      "\u001b[1;31mTypeError\u001b[0m                                 Traceback (most recent call last)",
      "\u001b[1;32m<ipython-input-28-3f07541ce938>\u001b[0m in \u001b[0;36m<module>\u001b[1;34m()\u001b[0m\n\u001b[0;32m     11\u001b[0m \u001b[0mlist\u001b[0m \u001b[1;33m=\u001b[0m \u001b[1;33m[\u001b[0m\u001b[1;33m]\u001b[0m\u001b[1;33m\u001b[0m\u001b[0m\n\u001b[0;32m     12\u001b[0m \u001b[1;32mfor\u001b[0m \u001b[0mD\u001b[0m \u001b[1;32min\u001b[0m \u001b[0mnum\u001b[0m\u001b[1;33m:\u001b[0m\u001b[1;33m\u001b[0m\u001b[0m\n\u001b[1;32m---> 13\u001b[1;33m     \u001b[0mQ\u001b[0m \u001b[1;33m=\u001b[0m \u001b[0mstr\u001b[0m\u001b[1;33m(\u001b[0m\u001b[0mint\u001b[0m\u001b[1;33m(\u001b[0m\u001b[0mround\u001b[0m\u001b[1;33m(\u001b[0m\u001b[0mmath\u001b[0m\u001b[1;33m.\u001b[0m\u001b[0msqrt\u001b[0m\u001b[1;33m(\u001b[0m\u001b[1;36m2\u001b[0m \u001b[1;33m*\u001b[0m \u001b[0mC\u001b[0m \u001b[1;33m*\u001b[0m \u001b[0mfloat\u001b[0m\u001b[1;33m(\u001b[0m\u001b[0mD\u001b[0m\u001b[1;33m)\u001b[0m\u001b[1;33m/\u001b[0m\u001b[0mH\u001b[0m\u001b[1;33m)\u001b[0m\u001b[1;33m)\u001b[0m\u001b[1;33m)\u001b[0m\u001b[1;33m)\u001b[0m\u001b[1;33m\u001b[0m\u001b[0m\n\u001b[0m\u001b[0;32m     14\u001b[0m     \u001b[0mlist\u001b[0m\u001b[1;33m.\u001b[0m\u001b[0mappend\u001b[0m\u001b[1;33m(\u001b[0m\u001b[0mQ\u001b[0m\u001b[1;33m)\u001b[0m\u001b[1;33m\u001b[0m\u001b[0m\n\u001b[0;32m     15\u001b[0m \u001b[0mprint\u001b[0m\u001b[1;33m(\u001b[0m\u001b[1;34m','\u001b[0m\u001b[1;33m.\u001b[0m\u001b[0mjoin\u001b[0m\u001b[1;33m(\u001b[0m\u001b[0mlist\u001b[0m\u001b[1;33m)\u001b[0m\u001b[1;33m)\u001b[0m\u001b[1;33m\u001b[0m\u001b[0m\n",
      "\u001b[1;31mTypeError\u001b[0m: 'str' object is not callable"
     ]
    }
   ],
   "source": [
    "#Q6) Write a program that calculates and prints the value according to the given formula:\n",
    "#Q = Square root of [(2 * C * D)/H]\n",
    "#Following are the fixed values of C and H:\n",
    "#C is 50. H is 30.\n",
    "#D is the variable whose values should be input to your program in a comma-separated sequence.\n",
    "\n",
    "import math\n",
    "num = input(\"Enter numbers:\").split(',')\n",
    "C = 50\n",
    "H = 30\n",
    "list = []\n",
    "for D in num:\n",
    "    Q = str(int(round(math.sqrt(2 * C * float(D)/H))))\n",
    "    list.append(Q)\n",
    "print(','.join(list))"
   ]
  },
  {
   "cell_type": "code",
   "execution_count": 27,
   "metadata": {},
   "outputs": [
    {
     "name": "stdout",
     "output_type": "stream",
     "text": [
      "Enter numbers3,10\n",
      "[[0, 0, 0, 0, 0, 0, 0, 0, 0, 0], [0, 1, 2, 3, 4, 5, 6, 7, 8, 9], [0, 2, 4, 6, 8, 10, 12, 14, 16, 18]]\n"
     ]
    }
   ],
   "source": [
    "#Question 7) \n",
    "#Write a program which takes 2 digits, X,Y as input and generates a 2-dimensional array. \n",
    "#The element value in the i-th row and j-th column of the array should be i*j.\n",
    "#Note: i=0,1.., X-1; j=0,1,��Y-1.\n",
    "#Example\n",
    "#Suppose the following inputs are given to the program:\n",
    "#3,5\n",
    "#Then, the output of the program should be:\n",
    "#[[0, 0, 0, 0, 0], [0, 1, 2, 3, 4], [0, 2, 4, 6, 8]] \n",
    "\n",
    "input_str = input(\"Enter numbers\")\n",
    "dimensions=[int(x) for x in input_str.split(',')]\n",
    "rowNum=dimensions[0]\n",
    "colNum=dimensions[1]\n",
    "multilist = [[0 for col in range(colNum)] for row in range(rowNum)]\n",
    "\n",
    "for row in range(rowNum):\n",
    "    for col in range(colNum):\n",
    "        multilist[row][col]= row*col\n",
    "\n",
    "print(multilist)\n"
   ]
  },
  {
   "cell_type": "code",
   "execution_count": 10,
   "metadata": {},
   "outputs": [
    {
     "name": "stdout",
     "output_type": "stream",
     "text": [
      "Enter string:Hussain,Murtaza\n",
      "None\n"
     ]
    }
   ],
   "source": [
    "#Question 8)\n",
    "#Write a program that accepts a comma separated sequence of words as input and prints the words \n",
    "#in a comma-separated sequence after sorting them alphabetically.\n",
    "\n",
    "str = input(\"Enter string:\").split(',')\n",
    "a = [i for i in str]\n",
    "sort = a.sort()\n",
    "print(sort)"
   ]
  },
  {
   "cell_type": "code",
   "execution_count": 3,
   "metadata": {},
   "outputs": [
    {
     "name": "stdout",
     "output_type": "stream",
     "text": [
      "Enter lines:hussain\n",
      "Enter lines:murtaza\n",
      "Enter lines:ali\n",
      "Enter lines:\n",
      "HUSSAIN\n",
      "MURTAZA\n",
      "ALI\n"
     ]
    }
   ],
   "source": [
    "#Question 9)\n",
    "#Write a program that accepts sequence of lines as input and prints the lines after making all\n",
    "#characters in the sentence capitalized.\n",
    "\n",
    "list = []\n",
    "while True:\n",
    "    str = input(\"Enter lines:\")\n",
    "    if str:\n",
    "        list.append(str.upper())\n",
    "    else:\n",
    "        break\n",
    "for i in list:\n",
    "    print(i)"
   ]
  },
  {
   "cell_type": "code",
   "execution_count": 12,
   "metadata": {},
   "outputs": [
    {
     "name": "stdout",
     "output_type": "stream",
     "text": [
      "Enter string:go and run and walk\n",
      "and go run walk\n"
     ]
    }
   ],
   "source": [
    "#Question 10)\n",
    "#Write a program that accepts a sequence of whitespace separated words as input and prints the \n",
    "#words after removing all duplicate words and sorting them alphanumerically.\n",
    "\n",
    "str = input(\"Enter string:\")\n",
    "list1 = [i for i in str.split(' ')]\n",
    "print (\" \".join(sorted(set(list1))))"
   ]
  },
  {
   "cell_type": "code",
   "execution_count": 42,
   "metadata": {},
   "outputs": [
    {
     "name": "stdout",
     "output_type": "stream",
     "text": [
      "Enter binary number:1111,1101,1011\n",
      "This number isn't divisible by 5: 1101\n",
      "This number isn't divisible by 5: 1011\n",
      "1111\n"
     ]
    }
   ],
   "source": [
    "#Question 11)\n",
    "#Write a program which accepts a sequence of comma separated 4 digit binary numbers as its input and\n",
    "#then check whether they are divisible by 5 or not. The numbers that are divisible by 5\n",
    "#are to be printed in a comma separated sequence.\n",
    "\n",
    "list1 = []\n",
    "inp = input(\"Enter binary number:\")\n",
    "list2 = [i for i in inp.split(\",\")]\n",
    "for x in list2:\n",
    "    intx = int(x,2)\n",
    "    if not intx % 5:\n",
    "        list1.append(x)\n",
    "    else:\n",
    "        print(\"This number isn't divisible by 5:\", x)\n",
    "print (\",\".join(list1))\n"
   ]
  },
  {
   "cell_type": "code",
   "execution_count": 54,
   "metadata": {},
   "outputs": [
    {
     "name": "stdout",
     "output_type": "stream",
     "text": [
      "1000,1001,1004,1005,1008,1009,1012,1013,1016,1017,1020,1021,1024,1025,1028,1029,1032,1033,1036,1037,1040,1041,1044,1045,1048,1049,1052,1053,1056,1057,1060,1061,1064,1065,1068,1069,1072,1073,1076,1077,1080,1081,1084,1085,1088,1089,1092,1093,1096,1097,1100,1101,1104,1105,1108,1109,1112,1113,1116,1117,1120,1121,1124,1125,1128,1129,1132,1133,1136,1137,1140,1141,1144,1145,1148,1149,1152,1153,1156,1157,1160,1161,1164,1165,1168,1169,1172,1173,1176,1177,1180,1181,1184,1185,1188,1189,1192,1193,1196,1197,1200,1201,1204,1205,1208,1209,1212,1213,1216,1217,1220,1221,1224,1225,1228,1229,1232,1233,1236,1237,1240,1241,1244,1245,1248,1249,1252,1253,1256,1257,1260,1261,1264,1265,1268,1269,1272,1273,1276,1277,1280,1281,1284,1285,1288,1289,1292,1293,1296,1297,1300,1301,1304,1305,1308,1309,1312,1313,1316,1317,1320,1321,1324,1325,1328,1329,1332,1333,1336,1337,1340,1341,1344,1345,1348,1349,1352,1353,1356,1357,1360,1361,1364,1365,1368,1369,1372,1373,1376,1377,1380,1381,1384,1385,1388,1389,1392,1393,1396,1397,1400,1401,1404,1405,1408,1409,1412,1413,1416,1417,1420,1421,1424,1425,1428,1429,1432,1433,1436,1437,1440,1441,1444,1445,1448,1449,1452,1453,1456,1457,1460,1461,1464,1465,1468,1469,1472,1473,1476,1477,1480,1481,1484,1485,1488,1489,1492,1493,1496,1497,1500,1501,1504,1505,1508,1509,1512,1513,1516,1517,1520,1521,1524,1525,1528,1529,1532,1533,1536,1537,1540,1541,1544,1545,1548,1549,1552,1553,1556,1557,1560,1561,1564,1565,1568,1569,1572,1573,1576,1577,1580,1581,1584,1585,1588,1589,1592,1593,1596,1597,1600,1601,1604,1605,1608,1609,1612,1613,1616,1617,1620,1621,1624,1625,1628,1629,1632,1633,1636,1637,1640,1641,1644,1645,1648,1649,1652,1653,1656,1657,1660,1661,1664,1665,1668,1669,1672,1673,1676,1677,1680,1681,1684,1685,1688,1689,1692,1693,1696,1697,1700,1701,1704,1705,1708,1709,1712,1713,1716,1717,1720,1721,1724,1725,1728,1729,1732,1733,1736,1737,1740,1741,1744,1745,1748,1749,1752,1753,1756,1757,1760,1761,1764,1765,1768,1769,1772,1773,1776,1777,1780,1781,1784,1785,1788,1789,1792,1793,1796,1797,1800,1801,1804,1805,1808,1809,1812,1813,1816,1817,1820,1821,1824,1825,1828,1829,1832,1833,1836,1837,1840,1841,1844,1845,1848,1849,1852,1853,1856,1857,1860,1861,1864,1865,1868,1869,1872,1873,1876,1877,1880,1881,1884,1885,1888,1889,1892,1893,1896,1897,1900,1901,1904,1905,1908,1909,1912,1913,1916,1917,1920,1921,1924,1925,1928,1929,1932,1933,1936,1937,1940,1941,1944,1945,1948,1949,1952,1953,1956,1957,1960,1961,1964,1965,1968,1969,1972,1973,1976,1977,1980,1981,1984,1985,1988,1989,1992,1993,1996,1997,2000,2001,2004,2005,2008,2009,2012,2013,2016,2017,2020,2021,2024,2025,2028,2029,2032,2033,2036,2037,2040,2041,2044,2045,2048,2049,2052,2053,2056,2057,2060,2061,2064,2065,2068,2069,2072,2073,2076,2077,2080,2081,2084,2085,2088,2089,2092,2093,2096,2097,2100,2101,2104,2105,2108,2109,2112,2113,2116,2117,2120,2121,2124,2125,2128,2129,2132,2133,2136,2137,2140,2141,2144,2145,2148,2149,2152,2153,2156,2157,2160,2161,2164,2165,2168,2169,2172,2173,2176,2177,2180,2181,2184,2185,2188,2189,2192,2193,2196,2197,2200,2201,2204,2205,2208,2209,2212,2213,2216,2217,2220,2221,2224,2225,2228,2229,2232,2233,2236,2237,2240,2241,2244,2245,2248,2249,2252,2253,2256,2257,2260,2261,2264,2265,2268,2269,2272,2273,2276,2277,2280,2281,2284,2285,2288,2289,2292,2293,2296,2297,2300,2301,2304,2305,2308,2309,2312,2313,2316,2317,2320,2321,2324,2325,2328,2329,2332,2333,2336,2337,2340,2341,2344,2345,2348,2349,2352,2353,2356,2357,2360,2361,2364,2365,2368,2369,2372,2373,2376,2377,2380,2381,2384,2385,2388,2389,2392,2393,2396,2397,2400,2401,2404,2405,2408,2409,2412,2413,2416,2417,2420,2421,2424,2425,2428,2429,2432,2433,2436,2437,2440,2441,2444,2445,2448,2449,2452,2453,2456,2457,2460,2461,2464,2465,2468,2469,2472,2473,2476,2477,2480,2481,2484,2485,2488,2489,2492,2493,2496,2497,2500,2501,2504,2505,2508,2509,2512,2513,2516,2517,2520,2521,2524,2525,2528,2529,2532,2533,2536,2537,2540,2541,2544,2545,2548,2549,2552,2553,2556,2557,2560,2561,2564,2565,2568,2569,2572,2573,2576,2577,2580,2581,2584,2585,2588,2589,2592,2593,2596,2597,2600,2601,2604,2605,2608,2609,2612,2613,2616,2617,2620,2621,2624,2625,2628,2629,2632,2633,2636,2637,2640,2641,2644,2645,2648,2649,2652,2653,2656,2657,2660,2661,2664,2665,2668,2669,2672,2673,2676,2677,2680,2681,2684,2685,2688,2689,2692,2693,2696,2697,2700,2701,2704,2705,2708,2709,2712,2713,2716,2717,2720,2721,2724,2725,2728,2729,2732,2733,2736,2737,2740,2741,2744,2745,2748,2749,2752,2753,2756,2757,2760,2761,2764,2765,2768,2769,2772,2773,2776,2777,2780,2781,2784,2785,2788,2789,2792,2793,2796,2797,2800,2801,2804,2805,2808,2809,2812,2813,2816,2817,2820,2821,2824,2825,2828,2829,2832,2833,2836,2837,2840,2841,2844,2845,2848,2849,2852,2853,2856,2857,2860,2861,2864,2865,2868,2869,2872,2873,2876,2877,2880,2881,2884,2885,2888,2889,2892,2893,2896,2897,2900,2901,2904,2905,2908,2909,2912,2913,2916,2917,2920,2921,2924,2925,2928,2929,2932,2933,2936,2937,2940,2941,2944,2945,2948,2949,2952,2953,2956,2957,2960,2961,2964,2965,2968,2969,2972,2973,2976,2977,2980,2981,2984,2985,2988,2989,2992,2993,2996,2997,3000\n"
     ]
    }
   ],
   "source": [
    "#Question 12)\n",
    "#Write a program, which will find all such numbers between 1000 and 3000 (both included) such that \n",
    "#each digit of the number is an even number.\n",
    "#The numbers obtained should be printed in a comma-separated sequence on a single line.\n",
    "\n",
    "list1 = []\n",
    "for x in range(1000, 3001):\n",
    "    if x & 2 == 0:\n",
    "        list1.append(str(x))\n",
    "print(\",\".join(list1))"
   ]
  },
  {
   "cell_type": "code",
   "execution_count": 1,
   "metadata": {},
   "outputs": [
    {
     "name": "stdout",
     "output_type": "stream",
     "text": [
      "Enter:Hussain123\n",
      "Letters: 7\n",
      "Digits: 3\n"
     ]
    },
    {
     "data": {
      "text/plain": [
       "{'Letter': 7, 'Digit': 3}"
      ]
     },
     "execution_count": 1,
     "metadata": {},
     "output_type": "execute_result"
    }
   ],
   "source": [
    "#Question 13)\n",
    "#Write a program that accepts a sentence and calculate the number of letters and digits.\n",
    "\n",
    "dic = {\"Letter\":0, \"Digit\":0}\n",
    "str = input(\"Enter:\")\n",
    "for i in str:\n",
    "    if i.isalpha():\n",
    "        dic[\"Letter\"] +=1\n",
    "    elif i.isdigit():\n",
    "        dic[\"Digit\"] +=1\n",
    "    else:\n",
    "        pass\n",
    "print(\"Letters:\", dic[\"Letter\"])\n",
    "print(\"Digits:\", dic[\"Digit\"])\n",
    "dic"
   ]
  },
  {
   "cell_type": "code",
   "execution_count": 68,
   "metadata": {},
   "outputs": [
    {
     "name": "stdout",
     "output_type": "stream",
     "text": [
      "Enter string:Hussain Murtaza\n",
      "Upper Case: 2\n",
      "Lower Case: 12\n"
     ]
    }
   ],
   "source": [
    "#Question 14)\n",
    "#Write a program that accepts a sentence and calculate the number of upper case letters and \n",
    "#lower case letters.\n",
    "\n",
    "dic = {\"Upp-Case\":0, \"Low-Case\":0}\n",
    "str1 = input(\"Enter string:\")\n",
    "for i in str:\n",
    "    if i.isupper():\n",
    "        dic[\"Upp-Case\"] += 1\n",
    "    elif i.islower():\n",
    "        dic[\"Low-Case\"] += 1\n",
    "    else:\n",
    "        pass\n",
    "print(\"Upper Case:\", dic[\"Upp-Case\"])\n",
    "print(\"Lower Case:\", dic[\"Low-Case\"])"
   ]
  },
  {
   "cell_type": "code",
   "execution_count": 73,
   "metadata": {},
   "outputs": [
    {
     "name": "stdout",
     "output_type": "stream",
     "text": [
      "Enter number:9\n",
      "11106\n"
     ]
    }
   ],
   "source": [
    "#Question 15)\n",
    "#Write a program that computes the value of a+aa+aaa+aaaa with a given digit as the value of a.\n",
    "\n",
    "a = input(\"Enter number:\")\n",
    "n1 = int( \"%s\" % a )\n",
    "n2 = int( \"%s%s\" % (a,a) )\n",
    "n3 = int( \"%s%s%s\" % (a,a,a) )\n",
    "n4 = int( \"%s%s%s%s\" % (a,a,a,a) )\n",
    "print(n1+n2+n3+n4)"
   ]
  },
  {
   "cell_type": "code",
   "execution_count": 78,
   "metadata": {},
   "outputs": [
    {
     "name": "stdout",
     "output_type": "stream",
     "text": [
      "Enter number:1,2,3,4,5,6,7\n",
      "1,3,5,7\n"
     ]
    }
   ],
   "source": [
    "#Question 16)\n",
    "#Use a list comprehension to square each odd number in a list. \n",
    "#The list is input by a sequence of comma-separated numbers.\n",
    "\n",
    "num = input(\"Enter number:\")\n",
    "a = [x for x in num.split(\",\") if int(x) % 2 != 0]\n",
    "print(\",\".join(a))"
   ]
  },
  {
   "cell_type": "code",
   "execution_count": 1,
   "metadata": {},
   "outputs": [
    {
     "name": "stdout",
     "output_type": "stream",
     "text": [
      "Press D to deposit\n",
      "Press W to withdraw\n",
      "Select any option:D\n",
      "Deposit your cash:5000\n",
      "Total Amount 5000\n",
      "Select any option:W\n",
      "Withdraw your cash:1000\n",
      "Total Amount 4000\n",
      "Select any option:Exit\n",
      "Invalid entry, please try again!!\n"
     ]
    }
   ],
   "source": [
    "#Question 17)\n",
    "#Write a program that computes the net amount of a bank account based a transaction log from \n",
    "#console input. The transaction log format is shown as following:\n",
    "#D 100\n",
    "#W 200\n",
    "#��\n",
    "#D means deposit while W means withdrawal.\n",
    "\n",
    "net_amount = 0\n",
    "print(\"Press D to deposit\")\n",
    "print(\"Press W to withdraw\")\n",
    "while True:\n",
    "    opt = input(\"Select any option:\")\n",
    "    if opt is \"D\":\n",
    "        dep = input(\"Deposit your cash:\")\n",
    "        Total = net_amount + int(dep)\n",
    "        print(\"Total Amount\", Total)\n",
    "    elif opt is \"W\":\n",
    "        wd = input(\"Withdraw your cash:\")\n",
    "        With_draw = Total - int(wd)\n",
    "        print(\"Total Amount\", With_draw)\n",
    "    else:\n",
    "        print(\"Invalid entry, please try again!!\")\n",
    "        break"
   ]
  },
  {
   "cell_type": "code",
   "execution_count": null,
   "metadata": {},
   "outputs": [],
   "source": [
    "#Question 18)\n",
    "#"
   ]
  },
  {
   "cell_type": "code",
   "execution_count": null,
   "metadata": {},
   "outputs": [],
   "source": []
  },
  {
   "cell_type": "code",
   "execution_count": null,
   "metadata": {},
   "outputs": [],
   "source": []
  },
  {
   "cell_type": "code",
   "execution_count": null,
   "metadata": {},
   "outputs": [],
   "source": []
  },
  {
   "cell_type": "code",
   "execution_count": null,
   "metadata": {},
   "outputs": [],
   "source": []
  },
  {
   "cell_type": "code",
   "execution_count": null,
   "metadata": {},
   "outputs": [],
   "source": []
  },
  {
   "cell_type": "code",
   "execution_count": null,
   "metadata": {},
   "outputs": [],
   "source": []
  }
 ],
 "metadata": {
  "kernelspec": {
   "display_name": "Python 3",
   "language": "python",
   "name": "python3"
  },
  "language_info": {
   "codemirror_mode": {
    "name": "ipython",
    "version": 3
   },
   "file_extension": ".py",
   "mimetype": "text/x-python",
   "name": "python",
   "nbconvert_exporter": "python",
   "pygments_lexer": "ipython3",
   "version": "3.6.5"
  }
 },
 "nbformat": 4,
 "nbformat_minor": 2
}
