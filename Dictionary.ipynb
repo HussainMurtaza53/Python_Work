{
 "cells": [
  {
   "cell_type": "code",
   "execution_count": 7,
   "metadata": {},
   "outputs": [
    {
     "name": "stdout",
     "output_type": "stream",
     "text": [
      "('name :', 'Hussain')\n",
      "name : Hussain\n",
      "('Course :', 'AI & DS')\n",
      "Course : AI & DS\n"
     ]
    }
   ],
   "source": [
    "#Dictionary using loop\n",
    "x = {'name :' : 'Hussain', 'Course :' : 'AI & DS'}\n",
    "for i in x.items():\n",
    "    print(i)\n",
    "    print(i[0], i[1])"
   ]
  },
  {
   "cell_type": "code",
   "execution_count": 28,
   "metadata": {},
   "outputs": [
    {
     "name": "stdout",
     "output_type": "stream",
     "text": [
      "dict_values([[1, 2, 3], [4, 5, 6]])\n"
     ]
    }
   ],
   "source": [
    "for i in x.keys():\n",
    "    i = x.values()\n",
    "print(i)"
   ]
  },
  {
   "cell_type": "code",
   "execution_count": 24,
   "metadata": {},
   "outputs": [
    {
     "name": "stdout",
     "output_type": "stream",
     "text": [
      "{'Age': [1, 2, 3], 'Numbers': [4, 5, 6]}\n"
     ]
    }
   ],
   "source": [
    "x = {'Age' : [3,2,1], 'Numbers' : [6,5,4]}\n",
    "for i , j in x.items():\n",
    "    x[i] = sorted(j)\n",
    "print(x)"
   ]
  },
  {
   "cell_type": "code",
   "execution_count": 51,
   "metadata": {},
   "outputs": [
    {
     "data": {
      "text/plain": [
       "{'Age': [1, 2, 3], 'Numbers': [4, 5, 6]}"
      ]
     },
     "execution_count": 51,
     "metadata": {},
     "output_type": "execute_result"
    }
   ],
   "source": [
    "#Using Dictionary Comprehension\n",
    "x = {i:sorted(v) for i,v in x.items()}\n",
    "x"
   ]
  },
  {
   "cell_type": "code",
   "execution_count": 73,
   "metadata": {},
   "outputs": [
    {
     "name": "stdout",
     "output_type": "stream",
     "text": [
      "['C#', 'C++', 'python']\n",
      "['Java', 'C', 'Python']\n"
     ]
    }
   ],
   "source": [
    "dic = {'Hussain' : ['C#', 'C++', 'python'], 'Maad' : ['Java', 'C', 'Python']}\n",
    "for i,j in dic.items():\n",
    "    k = dic[i]\n",
    "    print(k)"
   ]
  },
  {
   "cell_type": "code",
   "execution_count": null,
   "metadata": {},
   "outputs": [],
   "source": []
  },
  {
   "cell_type": "code",
   "execution_count": null,
   "metadata": {},
   "outputs": [],
   "source": []
  }
 ],
 "metadata": {
  "kernelspec": {
   "display_name": "Python 3",
   "language": "python",
   "name": "python3"
  },
  "language_info": {
   "codemirror_mode": {
    "name": "ipython",
    "version": 3
   },
   "file_extension": ".py",
   "mimetype": "text/x-python",
   "name": "python",
   "nbconvert_exporter": "python",
   "pygments_lexer": "ipython3",
   "version": "3.6.5"
  }
 },
 "nbformat": 4,
 "nbformat_minor": 2
}
