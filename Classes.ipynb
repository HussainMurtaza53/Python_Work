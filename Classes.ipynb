{
 "cells": [
  {
   "cell_type": "code",
   "execution_count": 3,
   "metadata": {},
   "outputs": [
    {
     "data": {
      "text/plain": [
       "15"
      ]
     },
     "execution_count": 3,
     "metadata": {},
     "output_type": "execute_result"
    }
   ],
   "source": [
    "class Test():\n",
    "    def __init__(self, num1, num2):\n",
    "        self.a = num1\n",
    "        self.b = num2\n",
    "    def result(abc):\n",
    "        return abc.a + abc.b\n",
    "obj = Test(5, 10)\n",
    "obj.result()"
   ]
  },
  {
   "cell_type": "code",
   "execution_count": 11,
   "metadata": {},
   "outputs": [
    {
     "name": "stdout",
     "output_type": "stream",
     "text": [
      "Addition    : 3\n",
      "Subtraction : -4\n"
     ]
    }
   ],
   "source": [
    "class cal1():\n",
    "    def __init__(self, num1, num2):\n",
    "        self.num1 = num1\n",
    "        self.num2 = num2\n",
    "    def add(self):\n",
    "        return self.num1 + self.num2\n",
    "\n",
    "class cal2(cal1):\n",
    "    def __init__(self, num1, num2, num3):\n",
    "        super().__init__(num1, num2)\n",
    "        self.num3 = num3\n",
    "    def sub(self):\n",
    "        return self.num1 - self.num2 - self.num3\n",
    "\n",
    "obj = cal2(1,2,3)\n",
    "res1 = obj.add()\n",
    "res2 = obj.sub()\n",
    "print(\"Addition    :\" +\" \"+ str(res1))\n",
    "print(\"Subtraction :\" +\" \"+ str(res2))"
   ]
  },
  {
   "cell_type": "code",
   "execution_count": null,
   "metadata": {},
   "outputs": [],
   "source": []
  },
  {
   "cell_type": "code",
   "execution_count": null,
   "metadata": {},
   "outputs": [],
   "source": []
  }
 ],
 "metadata": {
  "kernelspec": {
   "display_name": "Python 3",
   "language": "python",
   "name": "python3"
  },
  "language_info": {
   "codemirror_mode": {
    "name": "ipython",
    "version": 3
   },
   "file_extension": ".py",
   "mimetype": "text/x-python",
   "name": "python",
   "nbconvert_exporter": "python",
   "pygments_lexer": "ipython3",
   "version": "3.6.5"
  }
 },
 "nbformat": 4,
 "nbformat_minor": 2
}
